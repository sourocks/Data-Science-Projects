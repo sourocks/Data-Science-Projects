{
 "cells": [
  {
   "cell_type": "markdown",
   "metadata": {},
   "source": [
    "Q.4 Write a python program to scrap book name, author name, genre and book review of any 5 books from\n",
    "‘www.bookpage.com’"
   ]
  },
  {
   "cell_type": "code",
   "execution_count": 33,
   "metadata": {},
   "outputs": [
    {
     "data": {
      "text/plain": [
       "<Response [200]>"
      ]
     },
     "execution_count": 33,
     "metadata": {},
     "output_type": "execute_result"
    }
   ],
   "source": [
    "from bs4 import BeautifulSoup\n",
    "import requests\n",
    "import pandas as pd\n",
    "import numpy as np\n",
    "page = requests.get('https://bookpage.com/reviews')\n",
    "page"
   ]
  },
  {
   "cell_type": "code",
   "execution_count": 36,
   "metadata": {},
   "outputs": [],
   "source": [
    "Soup = BeautifulSoup(page.content,'lxml')"
   ]
  },
  {
   "cell_type": "code",
   "execution_count": 51,
   "metadata": {},
   "outputs": [],
   "source": [
    "Book = []\n",
    "Author = []\n",
    "Genre = []\n",
    "Review = []"
   ]
  },
  {
   "cell_type": "code",
   "execution_count": 52,
   "metadata": {},
   "outputs": [],
   "source": [
    "book = Soup.find_all('h4', class_='italic')\n",
    "author = Soup.find_all('p', class_=\"sans bold\")\n",
    "genre = Soup.find_all('p', class_=\"genre-links hidden-phone\")\n",
    "review = Soup.find_all('p', class_=\"excerpt\")"
   ]
  },
  {
   "cell_type": "code",
   "execution_count": 53,
   "metadata": {},
   "outputs": [
    {
     "data": {
      "text/plain": [
       "['  The Maidens',\n",
       " 'The Guide',\n",
       " '  The Love Songs of W.E.B. Du Bois',\n",
       " '  Einstein',\n",
       " 'A Duke Worth Fighting For',\n",
       " \"The Scoundrel's Daughter\",\n",
       " 'Light Chaser',\n",
       " '  Light Perpetual',\n",
       " '  More Than I Love My Life',\n",
       " 'Yearbook']"
      ]
     },
     "execution_count": 53,
     "metadata": {},
     "output_type": "execute_result"
    }
   ],
   "source": [
    "for i in book:\n",
    "    for j in i.find_all('a'):\n",
    "        Book.append(j.text.replace('★',''))\n",
    "Book[:10]"
   ]
  },
  {
   "cell_type": "code",
   "execution_count": 54,
   "metadata": {},
   "outputs": [
    {
     "data": {
      "text/plain": [
       "['Alex Michaelides, Louise Brealey, Kobna Holdbrook-Smith',\n",
       " 'Peter Heller',\n",
       " 'Honorée Fanonne Jeffers',\n",
       " 'Torben Kuhlmann',\n",
       " 'Christina Britton',\n",
       " 'Anne Gracie',\n",
       " 'Peter F. Hamilton, Gareth L. Powell',\n",
       " 'Francis Spufford, Imogen Church',\n",
       " 'David Grossman, Jessica Cohen',\n",
       " 'Seth Rogen, Cast']"
      ]
     },
     "execution_count": 54,
     "metadata": {},
     "output_type": "execute_result"
    }
   ],
   "source": [
    "for k in author:\n",
    "    Author.append(k.text.replace('\\n',\"\"))\n",
    "Author[:10]"
   ]
  },
  {
   "cell_type": "code",
   "execution_count": 55,
   "metadata": {},
   "outputs": [
    {
     "data": {
      "text/plain": [
       "['Audio / Mystery & Suspense / Suspense',\n",
       " 'Fiction / Speculative Fiction / Thriller',\n",
       " 'Fiction / Historical Fiction',\n",
       " \"Children's / Children's Picture Book\",\n",
       " 'Romance / Historical Romance',\n",
       " 'Romance / Historical Romance',\n",
       " 'Science Fiction & Fantasy / Science Fiction',\n",
       " 'Audio / Fiction / Literary Fiction',\n",
       " 'Fiction / Family Drama',\n",
       " 'Audio / Nonfiction / Humor']"
      ]
     },
     "execution_count": 55,
     "metadata": {},
     "output_type": "execute_result"
    }
   ],
   "source": [
    "for l in genre:\n",
    "    Genre.append(l.text.replace('\\n',\"\"))\n",
    "Genre[:10]"
   ]
  },
  {
   "cell_type": "code",
   "execution_count": 56,
   "metadata": {},
   "outputs": [
    {
     "data": {
      "text/plain": [
       "['Actors Louise Brealey and Kobna Holdbrook-Smith narrate as an investigator and a killer in The Maidens, a thriller with more twists than the Minotaur’s labyrinth.',\n",
       " 'The Guide is a glorious getaway in every sense—a wild wilderness trip as well as a suspenseful journey to solve a chilling mystery.',\n",
       " 'Honorée Fanonne Jeffers weaves an epic ancestral story, showing that where any one person comes from is much more complicated than genetic makeup.',\n",
       " 'Author-illustrator Torben Kuhlmann explores the concept of time in another wildly imaginative mouse adventure, Einstein: The Fantastic Journey of a Mouse Through Space and Time.',\n",
       " '',\n",
       " '',\n",
       " '',\n",
       " 'Featuring vibrant characters, all of whom have rich interior lives, Francis Spufford’s novel is perfect for audio.',\n",
       " 'David Grossman is a sympathetic if unfailingly honest chronicler of the anguish of three generations of women.',\n",
       " 'Seth Rogen’s audiobook is a blast, with guest appearances from Dan Aykroyd, Tommy Chong, Snoop Dogg, Michel Gondry, Billy Idol and more.']"
      ]
     },
     "execution_count": 56,
     "metadata": {},
     "output_type": "execute_result"
    }
   ],
   "source": [
    "for n in review:\n",
    "    Review.append(n.text.replace('\\n',\"\"))\n",
    "Review[:10]"
   ]
  },
  {
   "cell_type": "code",
   "execution_count": 58,
   "metadata": {},
   "outputs": [],
   "source": [
    "Books = {'Book_name':Book,'Author_name':Author_name ,'Genre':Genre,'Review':Review}\n",
    "\n",
    "Books = pd.DataFrame(Books)\n",
    "Books.drop(index = [4,5,6,8,9],inplace = True) # removes indices with empty Reviews\n",
    "Books.reset_index(drop=True,inplace = True)\n",
    "Books.index+= 1"
   ]
  },
  {
   "cell_type": "code",
   "execution_count": 59,
   "metadata": {},
   "outputs": [
    {
     "data": {
      "text/html": [
       "<div>\n",
       "<style scoped>\n",
       "    .dataframe tbody tr th:only-of-type {\n",
       "        vertical-align: middle;\n",
       "    }\n",
       "\n",
       "    .dataframe tbody tr th {\n",
       "        vertical-align: top;\n",
       "    }\n",
       "\n",
       "    .dataframe thead th {\n",
       "        text-align: right;\n",
       "    }\n",
       "</style>\n",
       "<table border=\"1\" class=\"dataframe\">\n",
       "  <thead>\n",
       "    <tr style=\"text-align: right;\">\n",
       "      <th></th>\n",
       "      <th>Book_name</th>\n",
       "      <th>Author_name</th>\n",
       "      <th>Genre</th>\n",
       "      <th>Review</th>\n",
       "    </tr>\n",
       "  </thead>\n",
       "  <tbody>\n",
       "    <tr>\n",
       "      <th>1</th>\n",
       "      <td>The Maidens</td>\n",
       "      <td>Alex Michaelides, Louise Brealey, Kobna Holdbr...</td>\n",
       "      <td>Audio / Mystery &amp; Suspense / Suspense</td>\n",
       "      <td>Actors Louise Brealey and Kobna Holdbrook-Smit...</td>\n",
       "    </tr>\n",
       "    <tr>\n",
       "      <th>2</th>\n",
       "      <td>The Guide</td>\n",
       "      <td>Peter Heller</td>\n",
       "      <td>Fiction / Speculative Fiction / Thriller</td>\n",
       "      <td>The Guide is a glorious getaway in every sense...</td>\n",
       "    </tr>\n",
       "    <tr>\n",
       "      <th>3</th>\n",
       "      <td>The Love Songs of W.E.B. Du Bois</td>\n",
       "      <td>Honorée Fanonne Jeffers</td>\n",
       "      <td>Fiction / Historical Fiction</td>\n",
       "      <td>Honorée Fanonne Jeffers weaves an epic ancestr...</td>\n",
       "    </tr>\n",
       "    <tr>\n",
       "      <th>4</th>\n",
       "      <td>Einstein</td>\n",
       "      <td>Torben Kuhlmann</td>\n",
       "      <td>Children's / Children's Picture Book</td>\n",
       "      <td>Author-illustrator Torben Kuhlmann explores th...</td>\n",
       "    </tr>\n",
       "    <tr>\n",
       "      <th>5</th>\n",
       "      <td>Light Perpetual</td>\n",
       "      <td>Francis Spufford, Imogen Church</td>\n",
       "      <td>Audio / Fiction / Literary Fiction</td>\n",
       "      <td>Featuring vibrant characters, all of whom have...</td>\n",
       "    </tr>\n",
       "  </tbody>\n",
       "</table>\n",
       "</div>"
      ],
      "text/plain": [
       "                            Book_name  \\\n",
       "1                         The Maidens   \n",
       "2                           The Guide   \n",
       "3    The Love Songs of W.E.B. Du Bois   \n",
       "4                            Einstein   \n",
       "5                     Light Perpetual   \n",
       "\n",
       "                                         Author_name  \\\n",
       "1  Alex Michaelides, Louise Brealey, Kobna Holdbr...   \n",
       "2                                       Peter Heller   \n",
       "3                            Honorée Fanonne Jeffers   \n",
       "4                                    Torben Kuhlmann   \n",
       "5                    Francis Spufford, Imogen Church   \n",
       "\n",
       "                                      Genre  \\\n",
       "1     Audio / Mystery & Suspense / Suspense   \n",
       "2  Fiction / Speculative Fiction / Thriller   \n",
       "3              Fiction / Historical Fiction   \n",
       "4      Children's / Children's Picture Book   \n",
       "5        Audio / Fiction / Literary Fiction   \n",
       "\n",
       "                                              Review  \n",
       "1  Actors Louise Brealey and Kobna Holdbrook-Smit...  \n",
       "2  The Guide is a glorious getaway in every sense...  \n",
       "3  Honorée Fanonne Jeffers weaves an epic ancestr...  \n",
       "4  Author-illustrator Torben Kuhlmann explores th...  \n",
       "5  Featuring vibrant characters, all of whom have...  "
      ]
     },
     "execution_count": 59,
     "metadata": {},
     "output_type": "execute_result"
    }
   ],
   "source": [
    "Books"
   ]
  },
  {
   "cell_type": "code",
   "execution_count": null,
   "metadata": {},
   "outputs": [],
   "source": []
  },
  {
   "cell_type": "code",
   "execution_count": null,
   "metadata": {},
   "outputs": [],
   "source": []
  }
 ],
 "metadata": {
  "kernelspec": {
   "display_name": "Python 3",
   "language": "python",
   "name": "python3"
  },
  "language_info": {
   "codemirror_mode": {
    "name": "ipython",
    "version": 3
   },
   "file_extension": ".py",
   "mimetype": "text/x-python",
   "name": "python",
   "nbconvert_exporter": "python",
   "pygments_lexer": "ipython3",
   "version": "3.8.5"
  }
 },
 "nbformat": 4,
 "nbformat_minor": 4
}
