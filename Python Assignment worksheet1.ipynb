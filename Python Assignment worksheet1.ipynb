{
 "cells": [
  {
   "cell_type": "markdown",
   "metadata": {},
   "source": [
    "# Python Assignment Worksheet1"
   ]
  },
  {
   "cell_type": "markdown",
   "metadata": {},
   "source": [
    "Que.11. Write a python program to find the factorial of a number."
   ]
  },
  {
   "cell_type": "code",
   "execution_count": 8,
   "metadata": {},
   "outputs": [
    {
     "name": "stdout",
     "output_type": "stream",
     "text": [
      "enter the number to find the factorial4\n",
      "The factorial of 4 is  24\n"
     ]
    }
   ],
   "source": [
    "# Python program to find the factorial of a number\n",
    "\n",
    "n=int(input(\"enter any number\"))\n",
    "def fact(n):\n",
    "    \n",
    "    if n==1:\n",
    "        return 1\n",
    "    else:\n",
    "        return n*fact(n-1)\n",
    "    \n",
    "if n<0:\n",
    "    print(\" number is negative . factorial not possible\")\n",
    "elif n==0:\n",
    "    print(\"The factorial is \",1)\n",
    "else:\n",
    "     print(\"The factorial of\",n,\"is \",fact(n))"
   ]
  },
  {
   "cell_type": "markdown",
   "metadata": {},
   "source": [
    "Que.12. Write a python program to find whether a number is prime or composite."
   ]
  },
  {
   "cell_type": "code",
   "execution_count": 10,
   "metadata": {},
   "outputs": [
    {
     "name": "stdout",
     "output_type": "stream",
     "text": [
      "Enter any number : 7\n",
      "7 is a Prime number\n"
     ]
    }
   ],
   "source": [
    "num = int(input(\"Enter any number : \"))\n",
    "if num>1:\n",
    "    for i in range(2, num):\n",
    "        if (num % i) == 0:\n",
    "            print(num, \"is not a Prime number\")\n",
    "            break\n",
    "    else:\n",
    "        print(num, \"is a Prime number\")\n",
    "elif num == 0 or 1:\n",
    "    print(num, \"is a neither Prime nor Composite number\")\n",
    "else:\n",
    "    print(num, \"is not a prime number, it is a Composite number\")"
   ]
  },
  {
   "cell_type": "markdown",
   "metadata": {},
   "source": [
    "Que.13. Write a python program to check whether a given string is palindrome or not."
   ]
  },
  {
   "cell_type": "code",
   "execution_count": 18,
   "metadata": {},
   "outputs": [
    {
     "name": "stdout",
     "output_type": "stream",
     "text": [
      "Enter the string: madam\n",
      "The string is palindrome\n"
     ]
    }
   ],
   "source": [
    "string=input(\"Enter the string: \")\n",
    "rev_string=\"\"\n",
    "for i in range(1,len(string)+1):\n",
    "    rev_string=rev_string+string.lower()[-i]\n",
    "if rev_string==string:\n",
    "    print(\"The string is palindrome\")\n",
    "else :\n",
    "    print(\"The string is not palindrome\")"
   ]
  },
  {
   "cell_type": "markdown",
   "metadata": {},
   "source": [
    "14. Write a Python program to get the third side of right-angled triangle from two given sides."
   ]
  },
  {
   "cell_type": "code",
   "execution_count": 21,
   "metadata": {},
   "outputs": [
    {
     "name": "stdout",
     "output_type": "stream",
     "text": [
      "Enter base of the right angled triangle4\n",
      "Enter perpendicular of the right angled triangle6\n",
      "The length of hypotenuse is  7.211102550927978\n"
     ]
    }
   ],
   "source": [
    "import math\n",
    "a=int(input(\"Enter base of the right angled triangle\"))\n",
    "b=int(input(\"Enter perpendicular of the right angled triangle\"))\n",
    "print(\"The length of hypotenuse is \",math.sqrt(a**2+b**2))"
   ]
  },
  {
   "cell_type": "code",
   "execution_count": null,
   "metadata": {},
   "outputs": [],
   "source": [
    "Que.15. Write a python program to print the frequency of each of the characters present in a given string."
   ]
  },
  {
   "cell_type": "code",
   "execution_count": 22,
   "metadata": {},
   "outputs": [
    {
     "name": "stdout",
     "output_type": "stream",
     "text": [
      "Enter the stringab\n",
      " The frequencies of characters in the string are {'a': 1, 'b': 1}\n"
     ]
    }
   ],
   "source": [
    "string=input(\"Enter the string\")\n",
    "freq=dict()\n",
    "for i in string :\n",
    "    if i in freq.keys():\n",
    "        freq[i]=freq[i]+1\n",
    "    else :\n",
    "        freq[i]=1\n",
    "print(\" The frequencies of characters in the string are\", freq)"
   ]
  },
  {
   "cell_type": "code",
   "execution_count": null,
   "metadata": {},
   "outputs": [],
   "source": []
  }
 ],
 "metadata": {
  "kernelspec": {
   "display_name": "Python 3",
   "language": "python",
   "name": "python3"
  },
  "language_info": {
   "codemirror_mode": {
    "name": "ipython",
    "version": 3
   },
   "file_extension": ".py",
   "mimetype": "text/x-python",
   "name": "python",
   "nbconvert_exporter": "python",
   "pygments_lexer": "ipython3",
   "version": "3.8.5"
  }
 },
 "nbformat": 4,
 "nbformat_minor": 4
}
