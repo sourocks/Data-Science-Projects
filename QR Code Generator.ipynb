{
 "cells": [
  {
   "cell_type": "markdown",
   "id": "ed76b936",
   "metadata": {},
   "source": [
    "# QR Code Generator"
   ]
  },
  {
   "cell_type": "code",
   "execution_count": null,
   "id": "3f7add63",
   "metadata": {},
   "outputs": [],
   "source": [
    "pip install pyqrcode      #first we need to install these two libraries"
   ]
  },
  {
   "cell_type": "code",
   "execution_count": null,
   "id": "375236a8",
   "metadata": {},
   "outputs": [],
   "source": [
    "pip install pypng"
   ]
  },
  {
   "cell_type": "code",
   "execution_count": 2,
   "id": "d0d845be",
   "metadata": {},
   "outputs": [
    {
     "data": {
      "image/svg+xml": [
       "<svg xmlns=\"http://www.w3.org/2000/svg\" height=\"296\" width=\"296\" class=\"pyqrcode\"><path transform=\"scale(8)\" stroke=\"#000\" class=\"pyqrline\" d=\"M4 4.5h7m3 0h1m3 0h3m2 0h2m1 0h7m-29 1h1m5 0h1m1 0h1m2 0h3m1 0h1m1 0h2m1 0h1m1 0h1m5 0h1m-29 1h1m1 0h3m1 0h1m1 0h1m1 0h1m3 0h7m1 0h1m1 0h3m1 0h1m-29 1h1m1 0h3m1 0h1m1 0h1m3 0h1m4 0h2m3 0h1m1 0h3m1 0h1m-29 1h1m1 0h3m1 0h1m1 0h1m2 0h1m1 0h2m7 0h1m1 0h3m1 0h1m-29 1h1m5 0h1m1 0h1m1 0h1m2 0h2m2 0h2m1 0h1m1 0h1m5 0h1m-29 1h7m1 0h1m1 0h1m1 0h1m1 0h1m1 0h1m1 0h1m1 0h1m1 0h7m-20 1h1m1 0h3m2 0h2m-16 1h1m2 0h4m1 0h1m1 0h1m1 0h2m1 0h1m1 0h3m1 0h5m-27 1h2m1 0h2m1 0h1m1 0h1m1 0h3m1 0h2m3 0h1m1 0h2m3 0h2m-29 1h1m2 0h1m2 0h1m1 0h1m1 0h1m1 0h1m2 0h4m1 0h2m3 0h2m1 0h1m-26 1h1m3 0h2m1 0h1m3 0h1m4 0h2m1 0h1m2 0h1m-26 1h4m2 0h6m1 0h2m1 0h2m2 0h3m2 0h1m1 0h1m-26 1h2m1 0h1m1 0h4m1 0h6m1 0h2m1 0h1m2 0h1m1 0h2m-28 1h1m1 0h2m1 0h1m1 0h1m4 0h2m3 0h2m5 0h2m1 0h1m-27 1h4m5 0h1m2 0h3m2 0h1m1 0h2m2 0h1m1 0h2m-28 1h1m1 0h4m1 0h1m2 0h4m1 0h1m2 0h2m1 0h2m-16 1h2m2 0h2m1 0h4m3 0h2m2 0h1m1 0h1m-29 1h2m1 0h1m2 0h4m3 0h1m3 0h3m3 0h1m1 0h2m1 0h1m-26 1h1m3 0h1m2 0h3m2 0h1m2 0h8m1 0h1m-28 1h5m1 0h2m3 0h1m1 0h2m1 0h1m3 0h5m3 0h1m-21 1h3m1 0h1m5 0h3m3 0h2m2 0h1m-29 1h7m1 0h1m1 0h5m3 0h1m1 0h1m1 0h1m1 0h3m1 0h1m-29 1h1m5 0h1m1 0h2m1 0h1m1 0h1m1 0h3m1 0h2m3 0h2m-26 1h1m1 0h3m1 0h1m3 0h1m1 0h1m1 0h1m3 0h7m3 0h1m-29 1h1m1 0h3m1 0h1m3 0h1m3 0h4m1 0h2m2 0h2m1 0h2m-28 1h1m1 0h3m1 0h1m1 0h1m1 0h1m1 0h2m2 0h2m3 0h1m2 0h1m1 0h3m-29 1h1m5 0h1m2 0h4m1 0h2m2 0h1m1 0h3m-23 1h7m2 0h8m2 0h2m1 0h4m2 0h1\"/></svg>"
      ],
      "text/plain": [
       "<IPython.core.display.SVG object>"
      ]
     },
     "metadata": {},
     "output_type": "display_data"
    }
   ],
   "source": [
    "# Import QRCode from pyqrcode\n",
    "import pyqrcode\n",
    "import png\n",
    "from pyqrcode import QRCode\n",
    "from IPython.display import SVG, display\n",
    "  \n",
    "# String which represents the QR code\n",
    "s = \"https://santophy.com/\"\n",
    "  \n",
    "# Generate QR code\n",
    "url = pyqrcode.create(s)\n",
    "  \n",
    "# Create and save the svg file naming \"myqr.svg\"\n",
    "with open(\"myqr.svg\", \"wb\") as svg_file:\n",
    "    url.svg(svg_file, scale=8)\n",
    "  \n",
    "# Create and save the png file naming \"myqr.png\"\n",
    "url.png('myqr.png', scale=6)\n",
    "\n",
    "# Display the SVG image\n",
    "display(SVG(filename='myqr.svg'))\n",
    "\n"
   ]
  },
  {
   "cell_type": "code",
   "execution_count": null,
   "id": "1129b488",
   "metadata": {},
   "outputs": [],
   "source": []
  }
 ],
 "metadata": {
  "kernelspec": {
   "display_name": "Python 3 (ipykernel)",
   "language": "python",
   "name": "python3"
  },
  "language_info": {
   "codemirror_mode": {
    "name": "ipython",
    "version": 3
   },
   "file_extension": ".py",
   "mimetype": "text/x-python",
   "name": "python",
   "nbconvert_exporter": "python",
   "pygments_lexer": "ipython3",
   "version": "3.10.10"
  }
 },
 "nbformat": 4,
 "nbformat_minor": 5
}
